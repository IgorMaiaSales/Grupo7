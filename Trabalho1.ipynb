{
 "cells": [
  {
   "cell_type": "code",
   "execution_count": 1,
   "metadata": {},
   "outputs": [],
   "source": [
    "import numpy as np\n",
    "import matplotlib.pyplot as plt"
   ]
  },
  {
   "cell_type": "code",
   "execution_count": 2,
   "metadata": {},
   "outputs": [],
   "source": [
    "def func(a, x):\n",
    "    y = 0\n",
    "    for i in range(len(a)):\n",
    "        y = y + a[i]*(x**i)\n",
    "    return y"
   ]
  },
  {
   "cell_type": "code",
   "execution_count": 3,
   "metadata": {},
   "outputs": [],
   "source": [
    "def ctd_raizes_positivas(a):\n",
    "    i = len(a) - 1\n",
    "    v = 0\n",
    "    p = []\n",
    "\n",
    "    while i > 0:\n",
    "        j = i - 1\n",
    "\n",
    "        while np.sign(a[j]) == 0 and j >= 0:\n",
    "            j = j - 1\n",
    "        \n",
    "        if j < 0:\n",
    "            break\n",
    "\n",
    "        if np.sign(a[i]) == np.sign(a[j]):\n",
    "            v = v + 1\n",
    "\n",
    "        i = j\n",
    "\n",
    "    while v >= 0:\n",
    "        p.append(v)\n",
    "        v = v - 2\n",
    "\n",
    "    return p"
   ]
  },
  {
   "cell_type": "code",
   "execution_count": 4,
   "metadata": {},
   "outputs": [],
   "source": [
    "def ctd_raizes_negativas(a):\n",
    "    for i in range(len(a)):\n",
    "        a[i] = a[i]*((-1)**i)\n",
    "\n",
    "    i = len(a) - 1\n",
    "    v = 0\n",
    "    neg = []\n",
    "\n",
    "    while i > 0:\n",
    "        j = i - 1\n",
    "\n",
    "        while np.sign(a[j]) == 0 and j >= 0:\n",
    "            j = j - 1\n",
    "        \n",
    "        if j < 0:\n",
    "            break\n",
    "\n",
    "        if np.sign(a[i]) == np.sign(a[j]):\n",
    "            v = v + 1\n",
    "\n",
    "        i = j\n",
    "\n",
    "    while v >= 0:\n",
    "        neg.append(v)\n",
    "        v = v - 2\n",
    "\n",
    "    return neg"
   ]
  },
  {
   "cell_type": "code",
   "execution_count": 5,
   "metadata": {},
   "outputs": [],
   "source": [
    "def estimar_raizes(n, p, neg):\n",
    "    aux = []\n",
    "\n",
    "    for i in range(len(p)):\n",
    "        for j in range(len(neg)):\n",
    "            if p[i] + neg[j] <= n:\n",
    "                aux.append([p[i], neg[j], v - p[i] - neg[j]])\n",
    "    \n",
    "    for x in aux:\n",
    "        print(\"A função pode ter {x[0]} raízes positivas, {x[1]} raízes negativas e {x[2]} raízes complexas conjugadas\")\n"
   ]
  }
 ],
 "metadata": {
  "interpreter": {
   "hash": "ac59ebe37160ed0dfa835113d9b8498d9f09ceb179beaac4002f036b9467c963"
  },
  "kernelspec": {
   "display_name": "Python 3.9.1 64-bit",
   "language": "python",
   "name": "python3"
  },
  "language_info": {
   "codemirror_mode": {
    "name": "ipython",
    "version": 3
   },
   "file_extension": ".py",
   "mimetype": "text/x-python",
   "name": "python",
   "nbconvert_exporter": "python",
   "pygments_lexer": "ipython3",
   "version": "3.9.1"
  },
  "orig_nbformat": 4
 },
 "nbformat": 4,
 "nbformat_minor": 2
}
