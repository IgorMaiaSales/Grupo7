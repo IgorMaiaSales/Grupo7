{
 "cells": [
  {
   "cell_type": "code",
   "execution_count": 1,
   "metadata": {},
   "outputs": [],
   "source": [
    "import numpy as np\n",
    "import matplotlib.pyplot as plt\n",
    "import math"
   ]
  },
  {
   "cell_type": "code",
   "execution_count": 2,
   "metadata": {},
   "outputs": [],
   "source": [
    "def func(a, x): # a é um vetor com os coeficientes da função, onde a[i] é o coeficiente de x**i. x é o valor a ser calculado.\n",
    "    y = 0\n",
    "    for i in range(len(a)):\n",
    "        y = y + a[i]*(x**i)\n",
    "    return y # retorna o valor de f(x)"
   ]
  },
  {
   "cell_type": "code",
   "execution_count": 3,
   "metadata": {},
   "outputs": [],
   "source": [
    "def ctd_raizes_positivas(a): # a é oum vetor com os coeficientes de f(x)\n",
    "    i = len(a) - 1\n",
    "    v = 0\n",
    "    p = []\n",
    "\n",
    "    while i > 0:\n",
    "        j = i - 1\n",
    "\n",
    "        while np.sign(a[j]) == 0 and j >= 0:\n",
    "            j = j - 1\n",
    "        \n",
    "        if j < 0:\n",
    "            break\n",
    "\n",
    "        if np.sign(a[i]) != np.sign(a[j]):\n",
    "            print(f\"Mudança de sinal entre a{i} e a{j}\")\n",
    "            v = v + 1\n",
    "\n",
    "        i = j\n",
    "\n",
    "    while v >= 0:\n",
    "        p.append(v)\n",
    "        v = v - 2\n",
    "\n",
    "    return p # retorna um vetor com os possíveis valores para p"
   ]
  },
  {
   "cell_type": "code",
   "execution_count": 4,
   "metadata": {},
   "outputs": [],
   "source": [
    "def ctd_raizes_negativas(a): # a é um vetor com os coeficientes de f(x)\n",
    "    aux = []\n",
    "\n",
    "    for i in range(len(a)):\n",
    "        aux.append(a[i]*((-1)**i))\n",
    "\n",
    "    i = len(aux) - 1\n",
    "    v = 0\n",
    "    neg = []\n",
    "\n",
    "    while i > 0:\n",
    "        j = i - 1\n",
    "\n",
    "        while np.sign(aux[j]) == 0 and j >= 0:\n",
    "            j = j - 1\n",
    "        \n",
    "        if j < 0:\n",
    "            break\n",
    "\n",
    "        if np.sign(aux[i]) != np.sign(aux[j]):\n",
    "            print(f\"Mudança de sinal entre a{i} e a{j}\")\n",
    "            v = v + 1\n",
    "\n",
    "        i = j\n",
    "\n",
    "    while v >= 0:\n",
    "        neg.append(v)\n",
    "        v = v - 2\n",
    "\n",
    "    return neg # retorna um vetor com os possíveis valores para neg"
   ]
  },
  {
   "cell_type": "code",
   "execution_count": 5,
   "metadata": {},
   "outputs": [],
   "source": [
    "def estimar_raizes(n, p, neg): # n é o grau de f(x). p é um vetor com os possíveis valores de p. neg é um vetor com os possíveis valores de neg\n",
    "    aux = []\n",
    "\n",
    "    for i in range(len(p)):\n",
    "        for j in range(len(neg)):\n",
    "            if p[i] + neg[j] <= n:\n",
    "                aux.append([p[i], neg[j], n - p[i] - neg[j]])\n",
    "    \n",
    "    for x in aux:\n",
    "        print(f\"A função pode ter {x[0]} raízes positivas, {x[1]} raízes negativas e {x[2]} raízes complexas conjugadas\")\n"
   ]
  },
  {
   "cell_type": "code",
   "execution_count": 6,
   "metadata": {},
   "outputs": [],
   "source": [
    "def raio(a, n): # recebe o vetor de coeficientes a e o grau de f(x)\n",
    "    r = 0\n",
    "\n",
    "    for i in range(0, n):\n",
    "        aux = 1 + abs(a[i])/abs(a[n])\n",
    "        if r < aux:\n",
    "            r = aux\n",
    "    \n",
    "    return r # retorna o valor do raio da circunferência onde se encontram todas as raízes de f(x)"
   ]
  },
  {
   "cell_type": "code",
   "execution_count": 7,
   "metadata": {},
   "outputs": [],
   "source": [
    "coef = [-20, 3, 14.5, -7.5, 1]\n",
    "n = len(coef) - 1"
   ]
  },
  {
   "cell_type": "code",
   "execution_count": 8,
   "metadata": {},
   "outputs": [
    {
     "name": "stdout",
     "output_type": "stream",
     "text": [
      "Mudança de sinal entre a4 e a3\n",
      "Mudança de sinal entre a3 e a2\n",
      "Mudança de sinal entre a1 e a0\n"
     ]
    },
    {
     "data": {
      "text/plain": [
       "[3, 1]"
      ]
     },
     "execution_count": 8,
     "metadata": {},
     "output_type": "execute_result"
    }
   ],
   "source": [
    "p = ctd_raizes_positivas(coef)\n",
    "p"
   ]
  },
  {
   "cell_type": "code",
   "execution_count": 9,
   "metadata": {},
   "outputs": [
    {
     "name": "stdout",
     "output_type": "stream",
     "text": [
      "Mudança de sinal entre a2 e a1\n"
     ]
    },
    {
     "data": {
      "text/plain": [
       "[1]"
      ]
     },
     "execution_count": 9,
     "metadata": {},
     "output_type": "execute_result"
    }
   ],
   "source": [
    "neg = ctd_raizes_negativas(coef)\n",
    "neg"
   ]
  },
  {
   "cell_type": "code",
   "execution_count": 10,
   "metadata": {},
   "outputs": [
    {
     "name": "stdout",
     "output_type": "stream",
     "text": [
      "A função pode ter 3 raízes positivas, 1 raízes negativas e 0 raízes complexas conjugadas\n",
      "A função pode ter 1 raízes positivas, 1 raízes negativas e 2 raízes complexas conjugadas\n"
     ]
    }
   ],
   "source": [
    "estimar_raizes(n, p, neg)"
   ]
  },
  {
   "cell_type": "code",
   "execution_count": 11,
   "metadata": {},
   "outputs": [
    {
     "name": "stdout",
     "output_type": "stream",
     "text": [
      "As raízes da função estão num disco centrado na origem e de raio igual a 21.0\n"
     ]
    }
   ],
   "source": [
    "raio = raio(coef, n)\n",
    "print(f\"As raízes da função estão num disco centrado na origem e de raio igual a {raio}\")"
   ]
  },
  {
   "cell_type": "code",
   "execution_count": 33,
   "metadata": {},
   "outputs": [
    {
     "data": {
      "text/plain": [
       "21"
      ]
     },
     "execution_count": 33,
     "metadata": {},
     "output_type": "execute_result"
    }
   ],
   "source": [
    "raio_int = int(raio)\n",
    "raio_int"
   ]
  },
  {
   "cell_type": "code",
   "execution_count": 34,
   "metadata": {},
   "outputs": [],
   "source": [
    "#Ainda tenho que corrigir isso daqui, não pensei no caso de ser complexo\n",
    "def bintervalo(a, n, r): #recebe o vetor de coeficientes (a), o grau da função (n) e o raio do setor circular (r)\n",
    "\n",
    "  root_range = [] #inicia raízes\n",
    "  found = 0\n",
    "\n",
    "  i = -r\n",
    "\n",
    "  while i < r: #define o intervalo de busca dentro da circunferência\n",
    "    j = i\n",
    "    k = i + 0.25\n",
    "    #j e k são os extremos da busca atual. O tamanho do intervalo é sempre 0.25\n",
    "\n",
    "    fj=func(coef ,j) #aplica a função ao valor da esquerda do intervalo atual\n",
    "    fk=func(coef ,k) #aplica a função ao valor da direita do intervalo atual\n",
    "\n",
    "    if fj * fk < 0 or fk == 0: #Bolzano\n",
    "      root_range.append([j,k])\n",
    "      found += 1\n",
    "\n",
    "    if found == n:\n",
    "      break\n",
    "\n",
    "    i = k\n",
    "\n",
    "  return root_range"
   ]
  },
  {
   "cell_type": "code",
   "execution_count": 35,
   "metadata": {},
   "outputs": [
    {
     "data": {
      "text/plain": [
       "[[-1.25, -1.0], [1.75, 2.0], [2.25, 2.5], [3.75, 4.0]]"
      ]
     },
     "execution_count": 35,
     "metadata": {},
     "output_type": "execute_result"
    }
   ],
   "source": [
    "raizes_b = bintervalo(coef, n, raio_int)\n",
    "raizes_b"
   ]
  },
  {
   "cell_type": "markdown",
   "metadata": {},
   "source": [
    "ÍNICIO MÉTODO PARA ACHAR RAÍZES | BAIRSTOW"
   ]
  },
  {
   "cell_type": "code",
   "execution_count": 15,
   "metadata": {},
   "outputs": [],
   "source": [
    "xx=np.linspace(0,n,n+1)\n",
    "for x in xx:\n",
    "    c=coef "
   ]
  },
  {
   "cell_type": "code",
   "execution_count": 16,
   "metadata": {},
   "outputs": [],
   "source": [
    "#tá invertendo o sinal das raízes, pelo menos no primeiro exemplo\n",
    "def bairstow(vet_coef,r,s,grau,epsilon):\n",
    "    xx=np.linspace(0,grau,grau+1)\n",
    "    bi = []\n",
    "    ci = []\n",
    "    raizes_met = []\n",
    "    for x in xx:\n",
    "        bi.append(0)\n",
    "        ci.append(0)\n",
    "        raizes_met.append(0)\n",
    "    id_raiz=0\n",
    "    while grau >= 3:\n",
    "        igrau=grau\n",
    "        bi[igrau]=vet_coef[igrau]\n",
    "        while igrau >0:\n",
    "            igrau=igrau-1\n",
    "            if igrau == grau-1:\n",
    "                bi[igrau]=vet_coef[igrau]+r*bi[igrau+1]\n",
    "            else:\n",
    "                bi[igrau]=vet_coef[igrau]+r*bi[igrau+1]+s*bi[igrau+2]\n",
    "        igrau=grau\n",
    "        ci[igrau]=bi[igrau]\n",
    "        while igrau>1:\n",
    "            igrau=igrau-1\n",
    "            if igrau==grau-1:\n",
    "                ci[igrau]=bi[igrau]+r*ci[igrau+1]\n",
    "            else:\n",
    "                ci[igrau]=bi[igrau]+r*ci[igrau+1]+s*ci[igrau+2]\n",
    "        delta_s=(bi[1]*(ci[1]/ci[2])-bi[0])/(ci[2]-(ci[1]/ci[2])*ci[3])\n",
    "        delta_r=(-1*bi[1]-ci[3]*delta_s)/ci[2]\n",
    "        r=r+delta_r\n",
    "        s=s+delta_s\n",
    "        \n",
    "        while abs(delta_r/r) > epsilon or abs(delta_s/s) > epsilon:\n",
    "            igrau=grau\n",
    "            bi[igrau]=vet_coef[igrau]\n",
    "            while igrau >0:\n",
    "                igrau=igrau-1\n",
    "                if igrau == grau-1:\n",
    "                    bi[igrau]=vet_coef[igrau]+r*bi[igrau+1]\n",
    "                else:\n",
    "                    bi[igrau]=vet_coef[igrau]+r*bi[igrau+1]+s*bi[igrau+2]\n",
    "            igrau=grau\n",
    "            ci[igrau]=bi[igrau]\n",
    "            while igrau>1:\n",
    "                igrau=igrau-1\n",
    "                if igrau==grau-1:\n",
    "                    ci[igrau]=bi[igrau]+r*ci[igrau+1]\n",
    "                else:\n",
    "                    ci[igrau]=bi[igrau]+r*ci[igrau+1]+s*ci[igrau+2]\n",
    "            delta_s=(bi[1]*(ci[1]/ci[2])-bi[0])/(ci[2]-(ci[1]/ci[2])*ci[3])\n",
    "            delta_r=(-1*bi[1]-ci[3]*delta_s)/ci[2]        \n",
    "            r=r+delta_r\n",
    "            s=s+delta_s\n",
    "            \n",
    "       \n",
    "        \n",
    "        delta = r**2+4*s\n",
    "        if delta > 0:\n",
    "            raizes_met[id_raiz]=(r+math.sqrt(delta))/2\n",
    "            print(\"Raiz = \", raizes_met[id_raiz])\n",
    "            id_raiz=id_raiz+1\n",
    "            raizes_met[id_raiz]=(r-math.sqrt(delta))/2\n",
    "            print(\"Raiz = \", raizes_met[id_raiz])\n",
    "            id_raiz=id_raiz+1\n",
    "        \n",
    "        \n",
    "        else: \n",
    "            raizes_met[id_raiz]=(r+complex(0,math.sqrt(-1*delta)))/2\n",
    "            print(\"Raiz = \", raizes_met[id_raiz])\n",
    "            id_raiz=id_raiz+1\n",
    "            raizes_met[id_raiz]=(r-complex(0,math.sqrt(-1*delta)))/2\n",
    "            print(\"Raiz = \", raizes_met[id_raiz])\n",
    "            id_raiz=id_raiz+1\n",
    "        \n",
    "        grau=grau-2\n",
    "        igrau=grau\n",
    "        while igrau >=0:\n",
    "            vet_coef[igrau]=bi[igrau+2]\n",
    "            igrau=igrau-1\n",
    "    if grau == 2:\n",
    "        delta = vet_coef[1]**2-4*vet_coef[2]*vet_coef[0]\n",
    "        if delta >= 0:\n",
    "            raizes_met[id_raiz]=(-1*vet_coef[1]+math.sqrt(delta))/(2*vet_coef[2])\n",
    "            print(\"Raiz = \", raizes_met[id_raiz])\n",
    "            id_raiz=id_raiz+1\n",
    "            raizes_met[id_raiz]=(-1*vet_coef[1]-math.sqrt(delta))/(2*vet_coef[2])\n",
    "            print(\"Raiz = \", raizes_met[id_raiz])\n",
    "            id_raiz=id_raiz+1\n",
    "        \n",
    "        \n",
    "        else: \n",
    "            raizes_met[id_raiz]=(-1*vet_coef[1]+complex(0,math.sqrt(-1*delta)))/(2*vet_coef[2])\n",
    "            print(\"Raiz = \", raizes_met[id_raiz])\n",
    "            id_raiz=id_raiz+1\n",
    "            raizes_met[id_raiz]=(-1*vet_coef[1]-complex(0,math.sqrt(-1*delta)))/(2*vet_coef[2])\n",
    "            print(\"Raiz = \", raizes_met[id_raiz])\n",
    "            id_raiz=id_raiz+1\n",
    "    else:\n",
    "        raizes_met[id_raiz]=(-1*vet_coef[0])/vet_coef[1]\n",
    "        print(\"Raiz = \", raizes_met[id_raiz])\n",
    "    return raizes_met"
   ]
  },
  {
   "cell_type": "code",
   "execution_count": 17,
   "metadata": {},
   "outputs": [
    {
     "ename": "NameError",
     "evalue": "name 'raio_b' is not defined",
     "output_type": "error",
     "traceback": [
      "\u001b[1;31m---------------------------------------------------------------------------\u001b[0m",
      "\u001b[1;31mNameError\u001b[0m                                 Traceback (most recent call last)",
      "\u001b[1;32m<ipython-input-17-b802fbf90cef>\u001b[0m in \u001b[0;36m<module>\u001b[1;34m\u001b[0m\n\u001b[1;32m----> 1\u001b[1;33m \u001b[0mbairstow\u001b[0m\u001b[1;33m(\u001b[0m\u001b[0mcoef\u001b[0m\u001b[1;33m,\u001b[0m\u001b[0mraio_b\u001b[0m\u001b[1;33m,\u001b[0m\u001b[1;36m1\u001b[0m\u001b[1;33m,\u001b[0m\u001b[0mn\u001b[0m\u001b[1;33m,\u001b[0m\u001b[1;36m0.001\u001b[0m\u001b[1;33m)\u001b[0m\u001b[1;33m\u001b[0m\u001b[1;33m\u001b[0m\u001b[0m\n\u001b[0m",
      "\u001b[1;31mNameError\u001b[0m: name 'raio_b' is not defined"
     ]
    }
   ],
   "source": [
    "bairstow(coef,raio_b,1,n,0.001)"
   ]
  }
 ],
 "metadata": {
  "interpreter": {
   "hash": "ac59ebe37160ed0dfa835113d9b8498d9f09ceb179beaac4002f036b9467c963"
  },
  "kernelspec": {
   "display_name": "Python 3.9.1 64-bit",
   "language": "python",
   "name": "python3"
  },
  "language_info": {
   "codemirror_mode": {
    "name": "ipython",
    "version": 3
   },
   "file_extension": ".py",
   "mimetype": "text/x-python",
   "name": "python",
   "nbconvert_exporter": "python",
   "pygments_lexer": "ipython3",
   "version": "3.10.0"
  },
  "orig_nbformat": 4
 },
 "nbformat": 4,
 "nbformat_minor": 2
}
