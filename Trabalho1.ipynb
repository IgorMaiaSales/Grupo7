{
 "cells": [
  {
   "cell_type": "code",
   "execution_count": 2,
   "metadata": {},
   "outputs": [],
   "source": [
    "import numpy as np\n",
    "import math"
   ]
  },
  {
   "cell_type": "code",
   "execution_count": 3,
   "metadata": {},
   "outputs": [],
   "source": [
    "def func(a, x): # a é um vetor com os coeficientes da função, onde a[i] é o coeficiente de x**i. x é o valor a ser calculado.\n",
    "    y = 0\n",
    "    for i in range(len(a)):\n",
    "        y = y + a[i]*(x**i)\n",
    "    return y # retorna o valor de f(x)"
   ]
  },
  {
   "cell_type": "code",
   "execution_count": 4,
   "metadata": {},
   "outputs": [],
   "source": [
    "def ctd_raizes_positivas(a): # a é o vetor com os coeficientes de f(x)\n",
    "    i = len(a) - 1\n",
    "    v = 0\n",
    "    p = []\n",
    "\n",
    "    while i > 0:\n",
    "        j = i - 1\n",
    "\n",
    "        while np.sign(a[j]) == 0 and j >= 0:\n",
    "            j = j - 1\n",
    "        \n",
    "        if j < 0:\n",
    "            break\n",
    "\n",
    "        if np.sign(a[i]) != np.sign(a[j]):\n",
    "            print(f\"Mudança de sinal entre a{i} e a{j}\")\n",
    "            v = v + 1\n",
    "\n",
    "        i = j\n",
    "\n",
    "    while v >= 0:\n",
    "        p.append(v)\n",
    "        v = v - 2\n",
    "\n",
    "    return p # retorna um vetor com os possíveis valores para p"
   ]
  },
  {
   "cell_type": "code",
   "execution_count": 5,
   "metadata": {},
   "outputs": [],
   "source": [
    "def ctd_raizes_negativas(a): # a é um vetor com os coeficientes de f(x)\n",
    "    aux = []\n",
    "\n",
    "    for i in range(len(a)):\n",
    "        aux.append(a[i]*((-1)**i))\n",
    "\n",
    "    i = len(aux) - 1\n",
    "    v = 0\n",
    "    neg = []\n",
    "\n",
    "    while i > 0:\n",
    "        j = i - 1\n",
    "\n",
    "        while np.sign(aux[j]) == 0 and j >= 0:\n",
    "            j = j - 1\n",
    "        \n",
    "        if j < 0:\n",
    "            break\n",
    "\n",
    "        if np.sign(aux[i]) != np.sign(aux[j]):\n",
    "            print(f\"Mudança de sinal entre a{i} e a{j}\")\n",
    "            v = v + 1\n",
    "\n",
    "        i = j\n",
    "\n",
    "    while v >= 0:\n",
    "        neg.append(v)\n",
    "        v = v - 2\n",
    "\n",
    "    return neg # retorna um vetor com os possíveis valores para neg"
   ]
  },
  {
   "cell_type": "code",
   "execution_count": 6,
   "metadata": {},
   "outputs": [],
   "source": [
    "def estimar_raizes(n, p, neg): # n é o grau de f(x). p é um vetor com os possíveis valores de p. neg é um vetor com os possíveis valores de neg\n",
    "    aux = []\n",
    "\n",
    "    for i in range(len(p)):\n",
    "        for j in range(len(neg)):\n",
    "            if p[i] + neg[j] <= n:\n",
    "                aux.append([p[i], neg[j], n - p[i] - neg[j]])\n",
    "    \n",
    "    for x in aux:\n",
    "        print(f\"A função pode ter {x[0]} raízes positivas, {x[1]} raízes negativas e {x[2]} raízes complexas conjugadas\")\n"
   ]
  },
  {
   "cell_type": "code",
   "execution_count": 7,
   "metadata": {},
   "outputs": [],
   "source": [
    "def raio(a, n): # recebe o vetor de coeficientes a e o grau de f(x)\n",
    "    r = 0\n",
    "\n",
    "    for i in range(0, n):\n",
    "        aux = 1 + abs(a[i])/abs(a[n])\n",
    "        if r < aux:\n",
    "            r = aux\n",
    "    \n",
    "    return r # retorna o valor do raio da circunferência onde se encontram todas as raízes de f(x)"
   ]
  },
  {
   "cell_type": "code",
   "execution_count": 8,
   "metadata": {},
   "outputs": [],
   "source": [
    "def intervalo_raizes_reais(a, n, r): #recebe o vetor de coeficientes (a), o grau da função (n) e o raio do setor circular (r)\n",
    "\n",
    "  root_range = [] #inicia raízes\n",
    "  found = 0\n",
    "\n",
    "  i = -r\n",
    "\n",
    "  while i < r: #define o intervalo de busca dentro da circunferência\n",
    "    j = i\n",
    "    k = i + 0.25\n",
    "    #j e k são os extremos da busca atual. O tamanho do intervalo é sempre 0.25\n",
    "\n",
    "    fj=func(coef ,j) #aplica a função ao valor da esquerda do intervalo atual\n",
    "    fk=func(coef ,k) #aplica a função ao valor da direita do intervalo atual\n",
    "\n",
    "    if fj * fk < 0 or fk == 0: #Bolzano\n",
    "      root_range.append([j,k])\n",
    "      found += 1\n",
    "\n",
    "    if found == n:\n",
    "      break\n",
    "\n",
    "    i = k\n",
    "\n",
    "  return root_range #retorna um vetor com os intervalos de todas as raízes reais"
   ]
  },
  {
   "cell_type": "code",
   "execution_count": 9,
   "metadata": {},
   "outputs": [],
   "source": [
    "def bairstow(vet_coef,r,s,grau,epsilon):\n",
    "    xx=np.linspace(0,grau,grau+1)\n",
    "    bi = []\n",
    "    ci = []\n",
    "    raizes_met = []\n",
    "\n",
    "    for x in xx:\n",
    "        bi.append(0)\n",
    "        ci.append(0)\n",
    "        raizes_met.append(0)\n",
    "\n",
    "    id_raiz=0\n",
    "    while grau >= 3:\n",
    "        igrau=grau\n",
    "        bi[igrau]=vet_coef[igrau]\n",
    "\n",
    "        while igrau >0:\n",
    "            igrau=igrau-1\n",
    "            if igrau == grau-1:\n",
    "                bi[igrau]=vet_coef[igrau]+r*bi[igrau+1]\n",
    "            else:\n",
    "                bi[igrau]=vet_coef[igrau]+r*bi[igrau+1]+s*bi[igrau+2]\n",
    "\n",
    "        igrau=grau\n",
    "        ci[igrau]=bi[igrau]\n",
    "        while igrau>1:\n",
    "            igrau=igrau-1\n",
    "            if igrau==grau-1:\n",
    "                ci[igrau]=bi[igrau]+r*ci[igrau+1]\n",
    "            else:\n",
    "                ci[igrau]=bi[igrau]+r*ci[igrau+1]+s*ci[igrau+2]\n",
    "\n",
    "        delta_s=(bi[1]*(ci[1]/ci[2])-bi[0])/(ci[2]-(ci[1]/ci[2])*ci[3])\n",
    "        delta_r=(-1*bi[1]-ci[3]*delta_s)/ci[2]\n",
    "        r=r+delta_r\n",
    "        s=s+delta_s\n",
    "        \n",
    "        while abs(delta_r/r) > epsilon or abs(delta_s/s) > epsilon:\n",
    "            igrau=grau\n",
    "            bi[igrau]=vet_coef[igrau]\n",
    "\n",
    "            while igrau >0:\n",
    "                igrau=igrau-1\n",
    "                if igrau == grau-1:\n",
    "                    bi[igrau]=vet_coef[igrau]+r*bi[igrau+1]\n",
    "                else:\n",
    "                    bi[igrau]=vet_coef[igrau]+r*bi[igrau+1]+s*bi[igrau+2]\n",
    "\n",
    "            igrau=grau\n",
    "            ci[igrau]=bi[igrau]\n",
    "            while igrau>1:\n",
    "                igrau=igrau-1\n",
    "                if igrau==grau-1:\n",
    "                    ci[igrau]=bi[igrau]+r*ci[igrau+1]\n",
    "                else:\n",
    "                    ci[igrau]=bi[igrau]+r*ci[igrau+1]+s*ci[igrau+2]\n",
    "\n",
    "            delta_s=(bi[1]*(ci[1]/ci[2])-bi[0])/(ci[2]-(ci[1]/ci[2])*ci[3])\n",
    "            delta_r=(-1*bi[1]-ci[3]*delta_s)/ci[2]        \n",
    "            r=r+delta_r\n",
    "            s=s+delta_s\n",
    "            \n",
    "        delta = r**2+4*s\n",
    "        if delta > 0:\n",
    "            raizes_met[id_raiz]=(r+math.sqrt(delta))/2\n",
    "            print(\"Raiz = \", raizes_met[id_raiz])\n",
    "            id_raiz=id_raiz+1\n",
    "            raizes_met[id_raiz]=(r-math.sqrt(delta))/2\n",
    "            print(\"Raiz = \", raizes_met[id_raiz])\n",
    "            id_raiz=id_raiz+1\n",
    "        \n",
    "        \n",
    "        else: \n",
    "            raizes_met[id_raiz]=(r+complex(0,math.sqrt(-1*delta)))/2\n",
    "            print(\"Raiz = \", raizes_met[id_raiz])\n",
    "            id_raiz=id_raiz+1\n",
    "            raizes_met[id_raiz]=(r-complex(0,math.sqrt(-1*delta)))/2\n",
    "            print(\"Raiz = \", raizes_met[id_raiz])\n",
    "            id_raiz=id_raiz+1\n",
    "        \n",
    "        grau=grau-2\n",
    "        igrau=grau\n",
    "        while igrau >=0:\n",
    "            vet_coef[igrau]=bi[igrau+2]\n",
    "            igrau=igrau-1\n",
    "\n",
    "    if grau == 2:\n",
    "        delta = vet_coef[1]**2-4*vet_coef[2]*vet_coef[0]\n",
    "        if delta >= 0:\n",
    "            raizes_met[id_raiz]=(-1*vet_coef[1]+math.sqrt(delta))/(2*vet_coef[2])\n",
    "            print(\"Raiz = \", raizes_met[id_raiz])\n",
    "            id_raiz=id_raiz+1\n",
    "            raizes_met[id_raiz]=(-1*vet_coef[1]-math.sqrt(delta))/(2*vet_coef[2])\n",
    "            print(\"Raiz = \", raizes_met[id_raiz])\n",
    "            id_raiz=id_raiz+1\n",
    "        \n",
    "        else: \n",
    "            raizes_met[id_raiz]=(-1*vet_coef[1]+complex(0,math.sqrt(-1*delta)))/(2*vet_coef[2])\n",
    "            print(\"Raiz = \", raizes_met[id_raiz])\n",
    "            id_raiz=id_raiz+1\n",
    "            raizes_met[id_raiz]=(-1*vet_coef[1]-complex(0,math.sqrt(-1*delta)))/(2*vet_coef[2])\n",
    "            print(\"Raiz = \", raizes_met[id_raiz])\n",
    "            id_raiz=id_raiz+1\n",
    "            \n",
    "    else:\n",
    "        raizes_met[id_raiz]=(-1*vet_coef[0])/vet_coef[1]\n",
    "        print(\"Raiz = \", raizes_met[id_raiz])"
   ]
  },
  {
   "cell_type": "code",
   "execution_count": 10,
   "metadata": {},
   "outputs": [],
   "source": [
    "coef = [8, -8, 6, -2, 1] #na ordem dos indices\n",
    "n = len(coef) - 1"
   ]
  },
  {
   "cell_type": "code",
   "execution_count": 14,
   "metadata": {},
   "outputs": [
    {
     "name": "stdout",
     "output_type": "stream",
     "text": [
      "Mudança de sinal entre a4 e a3\n",
      "Mudança de sinal entre a3 e a2\n",
      "Mudança de sinal entre a2 e a1\n",
      "Mudança de sinal entre a1 e a0\n"
     ]
    },
    {
     "data": {
      "text/plain": [
       "[4, 2, 0]"
      ]
     },
     "execution_count": 14,
     "metadata": {},
     "output_type": "execute_result"
    }
   ],
   "source": [
    "p = ctd_raizes_positivas(coef)\n",
    "p"
   ]
  },
  {
   "cell_type": "code",
   "execution_count": 15,
   "metadata": {},
   "outputs": [
    {
     "data": {
      "text/plain": [
       "[0]"
      ]
     },
     "execution_count": 15,
     "metadata": {},
     "output_type": "execute_result"
    }
   ],
   "source": [
    "neg = ctd_raizes_negativas(coef)\n",
    "neg"
   ]
  },
  {
   "cell_type": "code",
   "execution_count": 16,
   "metadata": {},
   "outputs": [
    {
     "name": "stdout",
     "output_type": "stream",
     "text": [
      "A função pode ter 4 raízes positivas, 0 raízes negativas e 0 raízes complexas conjugadas\n",
      "A função pode ter 2 raízes positivas, 0 raízes negativas e 2 raízes complexas conjugadas\n",
      "A função pode ter 0 raízes positivas, 0 raízes negativas e 4 raízes complexas conjugadas\n"
     ]
    }
   ],
   "source": [
    "estimar_raizes(n, p, neg)"
   ]
  },
  {
   "cell_type": "code",
   "execution_count": 19,
   "metadata": {},
   "outputs": [
    {
     "data": {
      "text/plain": [
       "9.0"
      ]
     },
     "execution_count": 19,
     "metadata": {},
     "output_type": "execute_result"
    }
   ],
   "source": [
    "ra = raio(coef, n)\n",
    "ra\n"
   ]
  },
  {
   "cell_type": "code",
   "execution_count": 20,
   "metadata": {},
   "outputs": [
    {
     "data": {
      "text/plain": [
       "[]"
      ]
     },
     "execution_count": 20,
     "metadata": {},
     "output_type": "execute_result"
    }
   ],
   "source": [
    "raio_int = int(ra)\n",
    "raizes_b = intervalo_raizes_reais(coef, n, raio_int)\n",
    "raizes_b"
   ]
  },
  {
   "cell_type": "code",
   "execution_count": 21,
   "metadata": {},
   "outputs": [
    {
     "name": "stdout",
     "output_type": "stream",
     "text": [
      "Raiz =  (0.9999999999979512+1.000000000000811j)\n",
      "Raiz =  (0.9999999999979512-1.000000000000811j)\n",
      "Raiz =  (1.06248732367753e-06+2.0000011549190937j)\n",
      "Raiz =  (1.06248732367753e-06-2.0000011549190937j)\n"
     ]
    }
   ],
   "source": [
    "bairstow(coef,1,1,n,0.001)"
   ]
  }
 ],
 "metadata": {
  "interpreter": {
   "hash": "ac59ebe37160ed0dfa835113d9b8498d9f09ceb179beaac4002f036b9467c963"
  },
  "kernelspec": {
   "display_name": "Python 3.9.1 64-bit",
   "language": "python",
   "name": "python3"
  },
  "language_info": {
   "codemirror_mode": {
    "name": "ipython",
    "version": 3
   },
   "file_extension": ".py",
   "mimetype": "text/x-python",
   "name": "python",
   "nbconvert_exporter": "python",
   "pygments_lexer": "ipython3",
   "version": "3.9.1"
  },
  "orig_nbformat": 4
 },
 "nbformat": 4,
 "nbformat_minor": 2
}
