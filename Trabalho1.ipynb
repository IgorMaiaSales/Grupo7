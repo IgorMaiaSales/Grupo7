{
 "cells": [
  {
   "cell_type": "code",
   "execution_count": 1,
   "metadata": {},
   "outputs": [],
   "source": [
    "import numpy as np\n",
    "import matplotlib.pyplot as plt"
   ]
  },
  {
   "cell_type": "code",
   "execution_count": 2,
   "metadata": {},
   "outputs": [],
   "source": [
    "def func(a, x):\n",
    "    y = 0\n",
    "    for i in range(len(a)):\n",
    "        y = y + a[i]*(x**i)\n",
    "    return y"
   ]
  },
  {
   "cell_type": "code",
   "execution_count": 3,
   "metadata": {},
   "outputs": [],
   "source": [
    "def ctd_raizes_positivas(a):\n",
    "    i = len(a) - 1\n",
    "    v = 0\n",
    "    p = []\n",
    "\n",
    "    while i > 0:\n",
    "        j = i - 1\n",
    "\n",
    "        while np.sign(a[j]) == 0 and j >= 0:\n",
    "            j = j - 1\n",
    "        \n",
    "        if j < 0:\n",
    "            break\n",
    "\n",
    "        if np.sign(a[i]) == np.sign(a[j]):\n",
    "            v = v + 1\n",
    "\n",
    "        i = j\n",
    "\n",
    "    while v >= 0:\n",
    "        p.append(v)\n",
    "        v = v - 2\n",
    "\n",
    "    return p"
   ]
  },
  {
   "cell_type": "code",
   "execution_count": 4,
   "metadata": {},
   "outputs": [],
   "source": [
    "def ctd_raizes_negativas(a):\n",
    "    for i in range(len(a)):\n",
    "        a[i] = a[i]*((-1)**i)\n",
    "\n",
    "    i = len(a) - 1\n",
    "    v = 0\n",
    "    neg = []\n",
    "\n",
    "    while i > 0:\n",
    "        j = i - 1\n",
    "\n",
    "        while np.sign(a[j]) == 0 and j >= 0:\n",
    "            j = j - 1\n",
    "        \n",
    "        if j < 0:\n",
    "            break\n",
    "\n",
    "        if np.sign(a[i]) == np.sign(a[j]):\n",
    "            v = v + 1\n",
    "\n",
    "        i = j\n",
    "\n",
    "    while v >= 0:\n",
    "        neg.append(v)\n",
    "        v = v - 2\n",
    "\n",
    "    return neg"
   ]
  }
 ],
 "metadata": {
  "interpreter": {
   "hash": "ac59ebe37160ed0dfa835113d9b8498d9f09ceb179beaac4002f036b9467c963"
  },
  "kernelspec": {
   "display_name": "Python 3.9.1 64-bit",
   "language": "python",
   "name": "python3"
  },
  "language_info": {
   "codemirror_mode": {
    "name": "ipython",
    "version": 3
   },
   "file_extension": ".py",
   "mimetype": "text/x-python",
   "name": "python",
   "nbconvert_exporter": "python",
   "pygments_lexer": "ipython3",
   "version": "3.9.1"
  },
  "orig_nbformat": 4
 },
 "nbformat": 4,
 "nbformat_minor": 2
}
