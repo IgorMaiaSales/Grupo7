{
 "cells": [
  {
   "cell_type": "code",
   "execution_count": 1,
   "metadata": {},
   "outputs": [],
   "source": [
    "import numpy as np\n",
    "import matplotlib.pyplot as plt"
   ]
  },
  {
   "cell_type": "code",
   "execution_count": 2,
   "metadata": {},
   "outputs": [],
   "source": [
    "def func(a, x): # a é um vetor com os coeficientes da função, onde a[i] é o coeficiente de x**i. x é o valor a ser calculado.\n",
    "    y = 0\n",
    "    for i in range(len(a)):\n",
    "        y = y + a[i]*(x**i)\n",
    "    return y # retorna o valor de f(x)"
   ]
  },
  {
   "cell_type": "code",
   "execution_count": 3,
   "metadata": {},
   "outputs": [],
   "source": [
    "def ctd_raizes_positivas(a): # a é oum vetor com os coeficientes de f(x)\n",
    "    for i in range(len(a)):\n",
    "        print(\"a[\",i,\"] = \", a[i])\n",
    "    \n",
    "    i = len(a) - 1\n",
    "    v = 0\n",
    "    p = []\n",
    "\n",
    "    while i > 0:\n",
    "        j = i - 1\n",
    "\n",
    "        while np.sign(a[j]) == 0 and j >= 0:\n",
    "            j = j - 1\n",
    "        \n",
    "        if j < 0:\n",
    "            break\n",
    "\n",
    "        if np.sign(a[i]) != np.sign(a[j]):\n",
    "            print(f\"Mudança de sinal entre a{i} e a{j}\")\n",
    "            v = v + 1\n",
    "\n",
    "        i = j\n",
    "\n",
    "    while v >= 0:\n",
    "        p.append(v)\n",
    "        v = v - 2\n",
    "\n",
    "    return p # retorna um vetor com os possíveis valores para p"
   ]
  },
  {
   "cell_type": "code",
   "execution_count": 4,
   "metadata": {},
   "outputs": [],
   "source": [
    "def ctd_raizes_negativas(a): # a é um vetor com os coeficientes de f(x)\n",
    "    for i in range(len(a)): #\n",
    "        a[i] = a[i]*((-1)**i)\n",
    "\n",
    "    for i in range(len(a)):\n",
    "        print(\"a[\",i,\"] = \", a[i])\n",
    "\n",
    "    i = len(a) - 1\n",
    "    v = 0\n",
    "    neg = []\n",
    "\n",
    "    while i > 0:\n",
    "        j = i - 1\n",
    "\n",
    "        while np.sign(a[j]) == 0 and j >= 0:\n",
    "            j = j - 1\n",
    "        \n",
    "        if j < 0:\n",
    "            break\n",
    "\n",
    "        if np.sign(a[i]) != np.sign(a[j]):\n",
    "            print(f\"Mudança de sinal entre a{i} e a{j}\")\n",
    "            v = v + 1\n",
    "\n",
    "        i = j\n",
    "\n",
    "    while v >= 0:\n",
    "        neg.append(v)\n",
    "        v = v - 2\n",
    "\n",
    "    return neg # retorna um vetor com os possíveis valores para neg"
   ]
  },
  {
   "cell_type": "code",
   "execution_count": 5,
   "metadata": {},
   "outputs": [],
   "source": [
    "def estimar_raizes(n, p, neg): # n é o grau de f(x). p é um vetor com os possíveis valores de p. neg é um vetor com os possíveis valores de neg\n",
    "    aux = []\n",
    "\n",
    "    for i in range(len(p)):\n",
    "        for j in range(len(neg)):\n",
    "            if p[i] + neg[j] <= n:\n",
    "                aux.append([p[i], neg[j], n - p[i] - neg[j]])\n",
    "    \n",
    "    for x in aux:\n",
    "        print(f\"A função pode ter {x[0]} raízes positivas, {x[1]} raízes negativas e {x[2]} raízes complexas conjugadas\")\n"
   ]
  },
  {
   "cell_type": "code",
   "execution_count": 6,
   "metadata": {},
   "outputs": [],
   "source": [
    "def raio(a, n): # recebe o vetor de coeficientes a e o grau de f(x)\n",
    "    r = 0\n",
    "\n",
    "    for i in range(0, n):\n",
    "        aux = 1 + abs(a[i])/abs(a[n])\n",
    "        if r < aux:\n",
    "            r = aux\n",
    "    \n",
    "    return r # retorna o valor do raio da circunferência onde se encontram todas as raízes de f(x)"
   ]
  },
  {
   "cell_type": "code",
   "execution_count": 8,
   "metadata": {},
   "outputs": [],
   "source": [
    "coef = [-20, 3, 14.5, -7.5, 1]\n",
    "n = len(coef) - 1"
   ]
  },
  {
   "cell_type": "code",
   "execution_count": 9,
   "metadata": {},
   "outputs": [
    {
     "name": "stdout",
     "output_type": "stream",
     "text": [
      "a[ 0 ] =  -20\n",
      "a[ 1 ] =  3\n",
      "a[ 2 ] =  14.5\n",
      "a[ 3 ] =  -7.5\n",
      "a[ 4 ] =  1\n",
      "Mudança de sinal entre a4 e a3\n",
      "Mudança de sinal entre a3 e a2\n",
      "Mudança de sinal entre a1 e a0\n"
     ]
    },
    {
     "data": {
      "text/plain": [
       "[3, 1]"
      ]
     },
     "execution_count": 9,
     "metadata": {},
     "output_type": "execute_result"
    }
   ],
   "source": [
    "p = ctd_raizes_positivas(coef)\n",
    "p"
   ]
  },
  {
   "cell_type": "code",
   "execution_count": 10,
   "metadata": {},
   "outputs": [
    {
     "name": "stdout",
     "output_type": "stream",
     "text": [
      "a[ 0 ] =  -20\n",
      "a[ 1 ] =  -3\n",
      "a[ 2 ] =  14.5\n",
      "a[ 3 ] =  7.5\n",
      "a[ 4 ] =  1\n",
      "Mudança de sinal entre a2 e a1\n"
     ]
    },
    {
     "data": {
      "text/plain": [
       "[1]"
      ]
     },
     "execution_count": 10,
     "metadata": {},
     "output_type": "execute_result"
    }
   ],
   "source": [
    "neg = ctd_raizes_negativas(coef)\n",
    "neg"
   ]
  },
  {
   "cell_type": "code",
   "execution_count": 11,
   "metadata": {},
   "outputs": [
    {
     "name": "stdout",
     "output_type": "stream",
     "text": [
      "A função pode ter 3 raízes positivas, 1 raízes negativas e 0 raízes complexas conjugadas\n",
      "A função pode ter 1 raízes positivas, 1 raízes negativas e 2 raízes complexas conjugadas\n"
     ]
    }
   ],
   "source": [
    "estimar_raizes(n, p, neg)"
   ]
  },
  {
   "cell_type": "code",
   "execution_count": 12,
   "metadata": {},
   "outputs": [
    {
     "name": "stdout",
     "output_type": "stream",
     "text": [
      "As raízes da função estão num disco centrado na origem e de raio igual a 21.0\n"
     ]
    }
   ],
   "source": [
    "r = raio(coef, n)\n",
    "print(f\"As raízes da função estão num disco centrado na origem e de raio igual a {r}\")"
   ]
  },
  {
   "cell_type": "code",
   "execution_count": 13,
   "metadata": {},
   "outputs": [],
   "source": [
    "def bintervalo(g):\n",
    "  nr = g #grau da função\n",
    "  found = 0 #número de raizes encontradas\n",
    "\n",
    "  raizes = [] #inicia \"raizes\"\n",
    "\n",
    "  for i in range(-r,r): # r é o raio da busca\n",
    "    j = i\n",
    "    k = i+1\n",
    "#j e k são os extremos da busca atual\n",
    "    fj=func(j) #aplica a função ao valor da esquerda da busca atual\n",
    "    fk=func(k) #aplica a função ao valor da esquerda da busca atual\n",
    "\n",
    "    if fj * fk < 0: #Bolzano\n",
    "      raizes.append([j,k])\n",
    "      found += 1\n",
    "    if found == nr:\n",
    "      break\n",
    "  return raizes"
   ]
  },
  {
   "cell_type": "code",
   "execution_count": null,
   "metadata": {},
   "outputs": [],
   "source": []
  }
 ],
 "metadata": {
  "interpreter": {
   "hash": "ac59ebe37160ed0dfa835113d9b8498d9f09ceb179beaac4002f036b9467c963"
  },
  "kernelspec": {
   "display_name": "Python 3.9.1 64-bit",
   "language": "python",
   "name": "python3"
  },
  "language_info": {
   "codemirror_mode": {
    "name": "ipython",
    "version": 3
   },
   "file_extension": ".py",
   "mimetype": "text/x-python",
   "name": "python",
   "nbconvert_exporter": "python",
   "pygments_lexer": "ipython3",
   "version": "3.9.9"
  },
  "orig_nbformat": 4
 },
 "nbformat": 4,
 "nbformat_minor": 2
}
