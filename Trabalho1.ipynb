{
 "cells": [
  {
   "cell_type": "code",
   "execution_count": 22,
   "metadata": {},
   "outputs": [],
   "source": [
    "import numpy as np\n",
    "import matplotlib.pyplot as plt\n",
    "import math"
   ]
  },
  {
   "cell_type": "code",
   "execution_count": 23,
   "metadata": {},
   "outputs": [],
   "source": [
    "def func(a, x): # a é um vetor com os coeficientes da função, onde a[i] é o coeficiente de x**i. x é o valor a ser calculado.\n",
    "    y = 0\n",
    "    for i in range(len(a)):\n",
    "        y = y + a[i]*(x**i)\n",
    "    return y # retorna o valor de f(x)"
   ]
  },
  {
   "cell_type": "code",
   "execution_count": 24,
   "metadata": {},
   "outputs": [],
   "source": [
    "def ctd_raizes_positivas(a): # a é oum vetor com os coeficientes de f(x)\n",
    "    for i in range(len(a)):\n",
    "        print(\"a[\",i,\"] = \", a[i])\n",
    "    \n",
    "    i = len(a) - 1\n",
    "    v = 0\n",
    "    p = []\n",
    "\n",
    "    while i > 0:\n",
    "        j = i - 1\n",
    "\n",
    "        while np.sign(a[j]) == 0 and j >= 0:\n",
    "            j = j - 1\n",
    "        \n",
    "        if j < 0:\n",
    "            break\n",
    "\n",
    "        if np.sign(a[i]) != np.sign(a[j]):\n",
    "            print(f\"Mudança de sinal entre a{i} e a{j}\")\n",
    "            v = v + 1\n",
    "\n",
    "        i = j\n",
    "\n",
    "    while v >= 0:\n",
    "        p.append(v)\n",
    "        v = v - 2\n",
    "\n",
    "    return p # retorna um vetor com os possíveis valores para p"
   ]
  },
  {
   "cell_type": "code",
   "execution_count": 25,
   "metadata": {},
   "outputs": [],
   "source": [
    "def ctd_raizes_negativas(a): # a é um vetor com os coeficientes de f(x)\n",
    "    for i in range(len(a)): #\n",
    "        a[i] = a[i]*((-1)**i)\n",
    "\n",
    "    for i in range(len(a)):\n",
    "        print(\"a[\",i,\"] = \", a[i])\n",
    "\n",
    "    i = len(a) - 1\n",
    "    v = 0\n",
    "    neg = []\n",
    "\n",
    "    while i > 0:\n",
    "        j = i - 1\n",
    "\n",
    "        while np.sign(a[j]) == 0 and j >= 0:\n",
    "            j = j - 1\n",
    "        \n",
    "        if j < 0:\n",
    "            break\n",
    "\n",
    "        if np.sign(a[i]) != np.sign(a[j]):\n",
    "            print(f\"Mudança de sinal entre a{i} e a{j}\")\n",
    "            v = v + 1\n",
    "\n",
    "        i = j\n",
    "\n",
    "    while v >= 0:\n",
    "        neg.append(v)\n",
    "        v = v - 2\n",
    "\n",
    "    return neg # retorna um vetor com os possíveis valores para neg"
   ]
  },
  {
   "cell_type": "code",
   "execution_count": 26,
   "metadata": {},
   "outputs": [],
   "source": [
    "def estimar_raizes(n, p, neg): # n é o grau de f(x). p é um vetor com os possíveis valores de p. neg é um vetor com os possíveis valores de neg\n",
    "    aux = []\n",
    "\n",
    "    for i in range(len(p)):\n",
    "        for j in range(len(neg)):\n",
    "            if p[i] + neg[j] <= n:\n",
    "                aux.append([p[i], neg[j], n - p[i] - neg[j]])\n",
    "    \n",
    "    for x in aux:\n",
    "        print(f\"A função pode ter {x[0]} raízes positivas, {x[1]} raízes negativas e {x[2]} raízes complexas conjugadas\")\n"
   ]
  },
  {
   "cell_type": "code",
   "execution_count": 27,
   "metadata": {},
   "outputs": [],
   "source": [
    "def raio(a, n): # recebe o vetor de coeficientes a e o grau de f(x)\n",
    "    r = 0\n",
    "\n",
    "    for i in range(0, n):\n",
    "        aux = 1 + abs(a[i])/abs(a[n])\n",
    "        if r < aux:\n",
    "            r = aux\n",
    "    \n",
    "    return r # retorna o valor do raio da circunferência onde se encontram todas as raízes de f(x)"
   ]
  },
  {
   "cell_type": "code",
   "execution_count": 28,
   "metadata": {},
   "outputs": [],
   "source": [
    "coef = [-20, 3, 14.5, -7.5, 1]\n",
    "n = len(coef) - 1"
   ]
  },
  {
   "cell_type": "code",
   "execution_count": 29,
   "metadata": {},
   "outputs": [
    {
     "name": "stdout",
     "output_type": "stream",
     "text": [
      "a[ 0 ] =  -20\n",
      "a[ 1 ] =  3\n",
      "a[ 2 ] =  14.5\n",
      "a[ 3 ] =  -7.5\n",
      "a[ 4 ] =  1\n",
      "Mudança de sinal entre a4 e a3\n",
      "Mudança de sinal entre a3 e a2\n",
      "Mudança de sinal entre a1 e a0\n"
     ]
    },
    {
     "data": {
      "text/plain": [
       "[3, 1]"
      ]
     },
     "execution_count": 29,
     "metadata": {},
     "output_type": "execute_result"
    }
   ],
   "source": [
    "p = ctd_raizes_positivas(coef)\n",
    "p"
   ]
  },
  {
   "cell_type": "code",
   "execution_count": 30,
   "metadata": {},
   "outputs": [
    {
     "name": "stdout",
     "output_type": "stream",
     "text": [
      "a[ 0 ] =  -20\n",
      "a[ 1 ] =  -3\n",
      "a[ 2 ] =  14.5\n",
      "a[ 3 ] =  7.5\n",
      "a[ 4 ] =  1\n",
      "Mudança de sinal entre a2 e a1\n"
     ]
    },
    {
     "data": {
      "text/plain": [
       "[1]"
      ]
     },
     "execution_count": 30,
     "metadata": {},
     "output_type": "execute_result"
    }
   ],
   "source": [
    "neg = ctd_raizes_negativas(coef)\n",
    "neg"
   ]
  },
  {
   "cell_type": "code",
   "execution_count": 31,
   "metadata": {},
   "outputs": [
    {
     "name": "stdout",
     "output_type": "stream",
     "text": [
      "A função pode ter 3 raízes positivas, 1 raízes negativas e 0 raízes complexas conjugadas\n",
      "A função pode ter 1 raízes positivas, 1 raízes negativas e 2 raízes complexas conjugadas\n"
     ]
    }
   ],
   "source": [
    "estimar_raizes(n, p, neg)"
   ]
  },
  {
   "cell_type": "code",
   "execution_count": 32,
   "metadata": {},
   "outputs": [
    {
     "name": "stdout",
     "output_type": "stream",
     "text": [
      "As raízes da função estão num disco centrado na origem e de raio igual a 21.0\n"
     ]
    }
   ],
   "source": [
    "r = raio(coef, n)\n",
    "print(f\"As raízes da função estão num disco centrado na origem e de raio igual a {r}\")"
   ]
  },
  {
   "cell_type": "code",
   "execution_count": 33,
   "metadata": {},
   "outputs": [],
   "source": [
    "raio_b = int(r)"
   ]
  },
  {
   "cell_type": "code",
   "execution_count": 34,
   "metadata": {},
   "outputs": [],
   "source": [
    "#Ainda tenho que corrigir isso daqui, não pensei no caso de ser complexo\n",
    "def bintervalo(g):\n",
    "  nr = g #numero de raizes = grau da função\n",
    "  found = 0 #número de raizes encontradas\n",
    "\n",
    "  raizes_busca = [] #inicia \"raizes\"\n",
    "\n",
    "  for i in range(-raio_b, raio_b): # raio_b é o raio da busca\n",
    "    j = i\n",
    "    k = i+1\n",
    "#j e k são os extremos da busca atual\n",
    "    fj=func(coef ,j) #aplica a função ao valor da esquerda da busca atual\n",
    "    fk=func(coef ,k) #aplica a função ao valor da esquerda da busca atual\n",
    "\n",
    "    if fj * fk < 0: #Bolzano\n",
    "      raizes_busca.append([j,k])\n",
    "      found += 1\n",
    "    if found == nr:\n",
    "      break\n",
    "  return raizes_busca"
   ]
  },
  {
   "cell_type": "code",
   "execution_count": 35,
   "metadata": {},
   "outputs": [
    {
     "data": {
      "text/plain": [
       "[]"
      ]
     },
     "execution_count": 35,
     "metadata": {},
     "output_type": "execute_result"
    }
   ],
   "source": [
    "raizes_b = bintervalo(n)\n",
    "raizes_b"
   ]
  },
  {
   "cell_type": "markdown",
   "metadata": {},
   "source": [
    "ÍNICIO MÉTODO PARA ACHAR RAÍZES | BAIRSTOW"
   ]
  },
  {
   "cell_type": "code",
   "execution_count": 36,
   "metadata": {},
   "outputs": [],
   "source": [
    "xx=np.linspace(0,n,n+1)\n",
    "for x in xx:\n",
    "    c=coef "
   ]
  },
  {
   "cell_type": "code",
   "execution_count": 37,
   "metadata": {},
   "outputs": [],
   "source": [
    "#tá invertendo o sinal das raízes, pelo menos no primeiro exemplo\n",
    "def bairstow(vet_coef,r,s,grau,epsilon):\n",
    "    xx=np.linspace(0,grau,grau+1)\n",
    "    bi = []\n",
    "    ci = []\n",
    "    raizes_met = []\n",
    "    for x in xx:\n",
    "        bi.append(0)\n",
    "        ci.append(0)\n",
    "        raizes_met.append(0)\n",
    "    id_raiz=0\n",
    "    while grau >= 3:\n",
    "        igrau=grau\n",
    "        bi[igrau]=vet_coef[igrau]\n",
    "        while igrau >0:\n",
    "            igrau=igrau-1\n",
    "            if igrau == grau-1:\n",
    "                bi[igrau]=vet_coef[igrau]+r*bi[igrau+1]\n",
    "            else:\n",
    "                bi[igrau]=vet_coef[igrau]+r*bi[igrau+1]+s*bi[igrau+2]\n",
    "        igrau=grau\n",
    "        ci[igrau]=bi[igrau]\n",
    "        while igrau>1:\n",
    "            igrau=igrau-1\n",
    "            if igrau==grau-1:\n",
    "                ci[igrau]=bi[igrau]+r*ci[igrau+1]\n",
    "            else:\n",
    "                ci[igrau]=bi[igrau]+r*ci[igrau+1]+s*ci[igrau+2]\n",
    "        delta_s=(bi[1]*(ci[1]/ci[2])-bi[0])/(ci[2]-(ci[1]/ci[2])*ci[3])\n",
    "        delta_r=(-1*bi[1]-ci[3]*delta_s)/ci[2]\n",
    "        r=r+delta_r\n",
    "        s=s+delta_s\n",
    "        \n",
    "        while abs(delta_r/r) > epsilon or abs(delta_s/s) > epsilon:\n",
    "            igrau=grau\n",
    "            bi[igrau]=vet_coef[igrau]\n",
    "            while igrau >0:\n",
    "                igrau=igrau-1\n",
    "                if igrau == grau-1:\n",
    "                    bi[igrau]=vet_coef[igrau]+r*bi[igrau+1]\n",
    "                else:\n",
    "                    bi[igrau]=vet_coef[igrau]+r*bi[igrau+1]+s*bi[igrau+2]\n",
    "            igrau=grau\n",
    "            ci[igrau]=bi[igrau]\n",
    "            while igrau>1:\n",
    "                igrau=igrau-1\n",
    "                if igrau==grau-1:\n",
    "                    ci[igrau]=bi[igrau]+r*ci[igrau+1]\n",
    "                else:\n",
    "                    ci[igrau]=bi[igrau]+r*ci[igrau+1]+s*ci[igrau+2]\n",
    "            delta_s=(bi[1]*(ci[1]/ci[2])-bi[0])/(ci[2]-(ci[1]/ci[2])*ci[3])\n",
    "            delta_r=(-1*bi[1]-ci[3]*delta_s)/ci[2]        \n",
    "            r=r+delta_r\n",
    "            s=s+delta_s\n",
    "            \n",
    "       \n",
    "        \n",
    "        delta = r**2+4*s\n",
    "        if delta > 0:\n",
    "            raizes_met[id_raiz]=(r+math.sqrt(delta))/2\n",
    "            print(\"Raiz = \", raizes_met[id_raiz])\n",
    "            id_raiz=id_raiz+1\n",
    "            raizes_met[id_raiz]=(r-math.sqrt(delta))/2\n",
    "            print(\"Raiz = \", raizes_met[id_raiz])\n",
    "            id_raiz=id_raiz+1\n",
    "        \n",
    "        \n",
    "        else: \n",
    "            raizes_met[id_raiz]=(r+complex(0,math.sqrt(-1*delta)))/2\n",
    "            print(\"Raiz = \", raizes_met[id_raiz])\n",
    "            id_raiz=id_raiz+1\n",
    "            raizes_met[id_raiz]=(r-complex(0,math.sqrt(-1*delta)))/2\n",
    "            print(\"Raiz = \", raizes_met[id_raiz])\n",
    "            id_raiz=id_raiz+1\n",
    "        \n",
    "        grau=grau-2\n",
    "        igrau=grau\n",
    "        while igrau >=0:\n",
    "            vet_coef[igrau]=bi[igrau+2]\n",
    "            igrau=igrau-1\n",
    "    if grau == 2:\n",
    "        delta = vet_coef[1]**2-4*vet_coef[2]*vet_coef[0]\n",
    "        if delta >= 0:\n",
    "            raizes_met[id_raiz]=(-1*vet_coef[1]+math.sqrt(delta))/(2*vet_coef[2])\n",
    "            print(\"Raiz = \", raizes_met[id_raiz])\n",
    "            id_raiz=id_raiz+1\n",
    "            raizes_met[id_raiz]=(-1*vet_coef[1]-math.sqrt(delta))/(2*vet_coef[2])\n",
    "            print(\"Raiz = \", raizes_met[id_raiz])\n",
    "            id_raiz=id_raiz+1\n",
    "        \n",
    "        \n",
    "        else: \n",
    "            raizes_met[id_raiz]=(-1*vet_coef[1]+complex(0,math.sqrt(-1*delta)))/(2*vet_coef[2])\n",
    "            print(\"Raiz = \", raizes_met[id_raiz])\n",
    "            id_raiz=id_raiz+1\n",
    "            raizes_met[id_raiz]=(-1*vet_coef[1]-complex(0,math.sqrt(-1*delta)))/(2*vet_coef[2])\n",
    "            print(\"Raiz = \", raizes_met[id_raiz])\n",
    "            id_raiz=id_raiz+1\n",
    "    else:\n",
    "        raizes_met[id_raiz]=(-1*vet_coef[0])/vet_coef[1]\n",
    "        print(\"Raiz = \", raizes_met[id_raiz])\n",
    "    return raizes_met"
   ]
  },
  {
   "cell_type": "code",
   "execution_count": 38,
   "metadata": {},
   "outputs": [
    {
     "name": "stdout",
     "output_type": "stream",
     "text": [
      "Raiz =  1.0000000366754183\n",
      "Raiz =  -4.0000011129895645\n",
      "Raiz =  -2.0029620390301583\n",
      "Raiz =  -2.496161273293247\n"
     ]
    },
    {
     "data": {
      "text/plain": [
       "[1.0000000366754183,\n",
       " -4.0000011129895645,\n",
       " -2.0029620390301583,\n",
       " -2.496161273293247,\n",
       " 0]"
      ]
     },
     "execution_count": 38,
     "metadata": {},
     "output_type": "execute_result"
    }
   ],
   "source": [
    "bairstow(coef,raio_b,1,n,0.001)"
   ]
  }
 ],
 "metadata": {
  "interpreter": {
   "hash": "ac59ebe37160ed0dfa835113d9b8498d9f09ceb179beaac4002f036b9467c963"
  },
  "kernelspec": {
   "display_name": "Python 3.9.1 64-bit",
   "language": "python",
   "name": "python3"
  },
  "language_info": {
   "codemirror_mode": {
    "name": "ipython",
    "version": 3
   },
   "file_extension": ".py",
   "mimetype": "text/x-python",
   "name": "python",
   "nbconvert_exporter": "python",
   "pygments_lexer": "ipython3",
   "version": "3.10.0"
  },
  "orig_nbformat": 4
 },
 "nbformat": 4,
 "nbformat_minor": 2
}
